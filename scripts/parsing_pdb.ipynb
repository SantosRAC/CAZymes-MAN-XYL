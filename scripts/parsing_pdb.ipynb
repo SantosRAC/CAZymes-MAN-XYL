{
 "cells": [
  {
   "cell_type": "code",
   "execution_count": 37,
   "metadata": {},
   "outputs": [],
   "source": [
    "import pandas as pd\n",
    "from os import mkdir"
   ]
  },
  {
   "cell_type": "code",
   "execution_count": 38,
   "metadata": {},
   "outputs": [],
   "source": [
    "pdb = pd.read_csv('pdb.csv', sep=';', index_col=1)\n",
    "families = ['GH31','GH115','CE6','GH116','GH67','GH97','GH54','GH95','CE16','GH62','GH30','GH39','GH8','CE5','CE4','CE1','GH11','GH51','GH10','GH43']\n",
    "newpdb = pdb[pdb['family'].isin(families)]\n",
    "newpdb.to_csv('pdb2.csv', sep=';') # Save the data with only the target families\n",
    "checking = newpdb.value_counts('family')\n",
    "# for value in newpdb.family.unique():\n",
    "#     print(value, newpdb[newpdb.family == value].value_counts('family').max())\n",
    "notinlist = list(set(families) - set(newpdb.family.unique()))"
   ]
  },
  {
   "cell_type": "code",
   "execution_count": 39,
   "metadata": {},
   "outputs": [
    {
     "name": "stdout",
     "output_type": "stream",
     "text": [
      "PDBChain 15\n",
      "family 18\n",
      "PDBID 730\n"
     ]
    }
   ],
   "source": [
    "\n",
    "uniques = {col: len(newpdb[col].unique()) for col in newpdb}\n",
    "\n",
    "sort_orders = sorted(uniques.items(), key=lambda x: x[1])\n",
    "\n",
    "for i in sort_orders:\n",
    "\tprint(i[0], i[1])"
   ]
  },
  {
   "cell_type": "code",
   "execution_count": 45,
   "metadata": {},
   "outputs": [
    {
     "name": "stdout",
     "output_type": "stream",
     "text": [
      "Directory CE1 already exists\n",
      "Directory CE4 already exists\n",
      "Directory CE5 already exists\n",
      "Directory GH10 already exists\n",
      "Directory GH11 already exists\n",
      "Directory GH115 already exists\n",
      "Directory GH116 already exists\n",
      "Directory GH30 already exists\n",
      "Directory GH31 already exists\n",
      "Directory GH39 already exists\n",
      "Directory GH43 already exists\n",
      "Directory GH51 already exists\n",
      "Directory GH54 already exists\n",
      "Directory GH62 already exists\n",
      "Directory GH67 already exists\n",
      "Directory GH8 already exists\n",
      "Directory GH95 already exists\n",
      "Directory GH97 already exists\n"
     ]
    }
   ],
   "source": [
    "pdb_with_count = newpdb.value_counts(ascending=True).reset_index(name='count').sort_values(by=['family','count'], ascending=[True,False])\n",
    "#pdb_with_count.to_csv('pdb3.csv', sep=';', index=False)\n",
    "for family in pdb_with_count.family.unique():\n",
    "    try:\n",
    "        os.mkdir(family)\n",
    "    except:\n",
    "        print(f'Directory {family} already exists')\n",
    "    family_file = pdb_with_count[pdb_with_count.family == family]\n",
    "    family_file.to_csv(family + '_pdb_all' '.csv', sep=';', index=False)\n",
    "    with open(f'{family}/{family}_pdb_ids2.txt', 'w') as f:\n",
    "        ids = family_file['PDBID'].to_string(header=False, index=False)\n",
    "        for id in ids.split():\n",
    "            f.write(id + \",\")\n"
   ]
  }
 ],
 "metadata": {
  "kernelspec": {
   "display_name": "Python 3.8.13 ('cazymes')",
   "language": "python",
   "name": "python3"
  },
  "language_info": {
   "codemirror_mode": {
    "name": "ipython",
    "version": 3
   },
   "file_extension": ".py",
   "mimetype": "text/x-python",
   "name": "python",
   "nbconvert_exporter": "python",
   "pygments_lexer": "ipython3",
   "version": "3.8.13"
  },
  "orig_nbformat": 4,
  "vscode": {
   "interpreter": {
    "hash": "e1dbd29d259a0af326f56cd569548387e55c3c787766d489d9857660f6f3b13e"
   }
  }
 },
 "nbformat": 4,
 "nbformat_minor": 2
}
